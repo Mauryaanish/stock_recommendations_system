{
 "cells": [
  {
   "cell_type": "code",
   "execution_count": 1,
   "id": "f73eca4e-05f3-48ba-b080-11687b097fdc",
   "metadata": {},
   "outputs": [],
   "source": [
    "import pandas as pd\n",
    "import numpy as np\n",
    "from glob import glob\n",
    "from datetime import datetime, timedelta\n",
    "import warnings\n",
    "warnings.filterwarnings('ignore')"
   ]
  },
  {
   "cell_type": "code",
   "execution_count": 2,
   "id": "4fe4347b-8967-4a7e-8d9c-f6c642acdaca",
   "metadata": {},
   "outputs": [],
   "source": [
    "def pre_processing_current_data():\n",
    "    # Define paths\n",
    "    log_term_client_data_path = 'D:\\\\Stock Recommendation data\\\\long_term_client_name.csv'\n",
    "    \n",
    "    # Load data\n",
    "    data = pd.read_html('https://www.moneycontrol.com/stocks/marketstats/bulk-deals/nse/',header=None )[0]\n",
    "    data.columns = data.columns.droplevel(0)\n",
    "    columns_name = {\n",
    "    'Unnamed: 0_level_1' : 'Date',\n",
    "    'Unnamed: 1_level_1' : 'Symbol',\n",
    "    'Unnamed: 2_level_1' : 'ClientName',\n",
    "    'Unnamed: 3_level_1' : 'Buy/Sell',\n",
    "    'Unnamed: 4_level_1' : 'QuantityTraded',\n",
    "    'Traded' : 'TradePrice/Wght.Avg.Price' ,\n",
    "    'Closed' : 'Closed'\n",
    "        }\n",
    "\n",
    "    data.rename(columns_name , axis =1 , inplace = True)\n",
    "    data.drop(['Closed'] , axis= 1 , inplace = True)\n",
    "\n",
    "    \n",
    "    log_term_client = pd.read_csv(log_term_client_data_path)\n",
    "    \n",
    "    # Filter data for long-term clients\n",
    "    client_names = set(log_term_client['ClientName'])\n",
    "    data = data[data['ClientName'].isin(client_names)].reset_index(drop=True)\n",
    "    \n",
    "    # Standardize and convert Buy/Sell column\n",
    "    data['Buy/Sell'] = data['Buy/Sell'].str.upper().replace({'BUY': 1, 'SELL': -1})\n",
    "    \n",
    "    # Correct negative quantities for SELL transactions\n",
    "    data['QuantityTraded'] = data['QuantityTraded'].abs() * data['Buy/Sell']\n",
    "    \n",
    "    # Convert date column to datetime\n",
    "    data['Date'] = pd.to_datetime(data['Date'])\n",
    "    \n",
    "    # Calculate trade values\n",
    "    data['Trade_values'] = data['QuantityTraded'] * data['TradePrice/Wght.Avg.Price']\n",
    "    \n",
    "    return data"
   ]
  },
  {
   "cell_type": "code",
   "execution_count": 3,
   "id": "58bb6650-6463-4a7b-a40d-96096adcbd5b",
   "metadata": {},
   "outputs": [],
   "source": [
    "def current_data_merge(current_data):\n",
    "    # Path to the historical data CSV file\n",
    "    historical_data_path = 'D:/Stock Recommendation data/Bulk_deal_data.csv'\n",
    "    \n",
    "    # Read the historical data\n",
    "    historical_data = pd.read_csv(historical_data_path)\n",
    "    \n",
    "    # Convert 'Date' columns to datetime format\n",
    "    historical_data['Date'] = pd.to_datetime(historical_data['Date'], format='%Y-%m-%d')\n",
    "    current_data['Date'] = pd.to_datetime(current_data['Date'], format='%d-%m-%Y')\n",
    "    \n",
    "    # Check if there are any dates in current_data that are not in historical_data\n",
    "    if not current_data['Date'].isin(historical_data['Date']).all():\n",
    "        # Concatenate historical and current data\n",
    "        main_data = pd.concat([historical_data, current_data], ignore_index=True)\n",
    "        \n",
    "        # Save the updated data back to the CSV file\n",
    "        main_data.to_csv(historical_data_path, index=False)\n",
    "    else:\n",
    "        # If all dates in current_data are already in historical_data, return the historical data\n",
    "        main_data = historical_data\n",
    "    \n",
    "    return main_data"
   ]
  },
  {
   "cell_type": "code",
   "execution_count": 4,
   "id": "a2b97f26-25b9-424c-93be-6e4a3b17c26b",
   "metadata": {},
   "outputs": [],
   "source": [
    "def recommendations_system(data):\n",
    "    today_date = datetime.today().date()\n",
    "    previous_30 = today_date - timedelta(days=60)\n",
    "    \n",
    "    # Filter data for the last 30 days\n",
    "    data['Date'] = pd.to_datetime(data['Date'])\n",
    "    recent_data = data[data['Date'].dt.date > previous_30]\n",
    "\n",
    "    # Group by 'SecurityName' and calculate total trade values\n",
    "    position_data = recent_data.groupby('Symbol')['Trade_values'].sum().reset_index()\n",
    "    \n",
    "    Buy_record = []\n",
    "    Sell_record = []\n",
    "\n",
    "    for stock_name in position_data['Symbol'].unique():\n",
    "        pos = recent_data[recent_data['Symbol'] == stock_name]\n",
    "        total_value = round(pos['Trade_values'].sum(), 2)\n",
    "        last_three_position = pos['Buy/Sell'].iloc[-3:].sum()\n",
    "\n",
    "        if total_value > 0 and last_three_position >= 3:\n",
    "            Buy_record.append({\n",
    "                'Single': 'Buy',\n",
    "                'Last Position Date': pos.iloc[-1]['Date'],\n",
    "                'Stock Name': pos.iloc[-1]['Symbol'],\n",
    "                'Last Position Client Name': pos.iloc[-1]['ClientName'],\n",
    "                'Last Position Trade Price': pos.iloc[-1]['TradePrice/Wght.Avg.Price'],\n",
    "                'Last Position Quantity': pos.iloc[-1]['QuantityTraded'],\n",
    "                'Total Buy Trade value': total_value\n",
    "            })\n",
    "        elif total_value < 0 and last_three_position <= -3:\n",
    "            Sell_record.append({\n",
    "                'Single': 'Sell',\n",
    "                'Last Position Date': pos.iloc[-1]['Date'],\n",
    "                'Stock Name': pos.iloc[-1]['Symbol'],\n",
    "                'Last Position Client Name': pos.iloc[-1]['ClientName'],\n",
    "                'Last Position Trade Price': pos.iloc[-1]['TradePrice/Wght.Avg.Price'],\n",
    "                'Last Position Quantity': pos.iloc[-1]['QuantityTraded'],\n",
    "                'Total Sell Trade value': total_value\n",
    "            })\n",
    "\n",
    "    # Create DataFrames from records\n",
    "    buy = pd.DataFrame(Buy_record)\n",
    "    sell = pd.DataFrame(Sell_record)\n",
    "\n",
    "    # Sort and filter records by date\n",
    "    if not buy.empty:\n",
    "        buy = buy.sort_values(by='Last Position Date').reset_index(drop=True)\n",
    "        buy = buy[buy['Last Position Date'].dt.date > previous_30]\n",
    "\n",
    "    if not sell.empty:\n",
    "        sell = sell.sort_values(by='Last Position Date').reset_index(drop=True)\n",
    "        sell = sell[sell['Last Position Date'].dt.date > previous_30]\n",
    "\n",
    "    # Convert to list of dictionaries\n",
    "    Buy_recommendations = buy.to_dict(orient='records') if not buy.empty else []\n",
    "    Sell_recommendations = sell.to_dict(orient='records') if not sell.empty else []\n",
    "\n",
    "    return Buy_recommendations, Sell_recommendations"
   ]
  },
  {
   "cell_type": "code",
   "execution_count": 5,
   "id": "6d07c893-12ee-4c8e-99f6-fbca259b4497",
   "metadata": {},
   "outputs": [
    {
     "name": "stdout",
     "output_type": "stream",
     "text": [
      "************************BUY RECOMMENDATION SHARE****************************\n",
      "[{'Single': 'Buy', 'Last Position Date': Timestamp('2024-04-30 00:00:00'), 'Stock Name': 'SBFC', 'Last Position Client Name': 'SBI MUTUAL FUND', 'Last Position Trade Price': 88.0, 'Last Position Quantity': 19318181, 'Total Buy Trade value': 4609869088.0}, {'Single': 'Buy', 'Last Position Date': Timestamp('2024-05-02 00:00:00'), 'Stock Name': 'AVONMORE', 'Last Position Client Name': 'SUBHASH PHOOTARMAL RATHOD', 'Last Position Trade Price': 112.0, 'Last Position Quantity': 282629, 'Total Buy Trade value': 72045898.0}, {'Single': 'Buy', 'Last Position Date': Timestamp('2024-06-06 00:00:00'), 'Stock Name': 'GSMFOILS', 'Last Position Client Name': 'MULTIPLIER SHARE & STOCK ADVISORS PRIVATE LIMITED', 'Last Position Trade Price': 33.4, 'Last Position Quantity': 200000, 'Total Buy Trade value': 41639680.0}, {'Single': 'Buy', 'Last Position Date': Timestamp('2024-06-06 00:00:00'), 'Stock Name': 'KSHITIJPOL', 'Last Position Client Name': 'YMD FINANCIAL CONSULTANCY PRIVATE LIMITED', 'Last Position Trade Price': 5.55, 'Last Position Quantity': 396780, 'Total Buy Trade value': 6831372.95}]\n",
      "---------------------------------------------------------------------------\n",
      "\n",
      "************************SELL RECOMMENDATION SHARE****************************\n",
      "[{'Single': 'Sell', 'Last Position Date': Timestamp('2024-04-16 00:00:00'), 'Stock Name': 'RADIOWALLA', 'Last Position Client Name': 'MULTIPLIER SHARE & STOCK ADVISORS PRIVATE LIMITED', 'Last Position Trade Price': 105.3, 'Last Position Quantity': -52800, 'Total Sell Trade value': -12228176.0}, {'Single': 'Sell', 'Last Position Date': Timestamp('2024-05-29 00:00:00'), 'Stock Name': 'ATAM', 'Last Position Client Name': 'JAIN VIMAL PARKASH', 'Last Position Trade Price': 207.01, 'Last Position Quantity': -150000, 'Total Sell Trade value': -78519468.34}, {'Single': 'Sell', 'Last Position Date': Timestamp('2024-05-31 00:00:00'), 'Stock Name': 'CARTRADE', 'Last Position Client Name': 'CMDB II', 'Last Position Trade Price': 900.0, 'Last Position Quantity': -1876059, 'Total Sell Trade value': -3902018700.0}, {'Single': 'Sell', 'Last Position Date': Timestamp('2024-05-31 00:00:00'), 'Stock Name': 'POLICYBZR', 'Last Position Client Name': 'UBS PRINCIPAL CAPITAL ASIA LIMITED', 'Last Position Trade Price': 1292.89, 'Last Position Quantity': -2666853, 'Total Sell Trade value': -23628106638.3}, {'Single': 'Sell', 'Last Position Date': Timestamp('2024-05-31 00:00:00'), 'Stock Name': 'SUNDARMFIN', 'Last Position Client Name': 'UBS PRINCIPAL CAPITAL ASIA LIMITED', 'Last Position Trade Price': 4277.64, 'Last Position Quantity': -957226, 'Total Sell Trade value': -14676889204.08}]\n",
      "-----------------------------------------------------------------------------\n"
     ]
    }
   ],
   "source": [
    "if __name__ == '__main__':\n",
    "    data = pre_processing_current_data()\n",
    "    main_data = current_data_merge(current_data = data)\n",
    "    Buy_recommendations ,Sell_recommendations =  recommendations_system(data = main_data)\n",
    "    print('************************BUY RECOMMENDATION SHARE****************************')\n",
    "    print(Buy_recommendations)\n",
    "    print('---------------------------------------------------------------------------\\n')\n",
    "    print('************************SELL RECOMMENDATION SHARE****************************')\n",
    "    print(Sell_recommendations)\n",
    "    print('-----------------------------------------------------------------------------')"
   ]
  },
  {
   "cell_type": "code",
   "execution_count": null,
   "id": "ec91d6d3-6de3-4b89-8b82-1683a608db10",
   "metadata": {},
   "outputs": [],
   "source": []
  },
  {
   "cell_type": "code",
   "execution_count": null,
   "id": "6af63584-cdd1-4d10-86b1-f6720f85af06",
   "metadata": {},
   "outputs": [],
   "source": []
  },
  {
   "cell_type": "code",
   "execution_count": null,
   "id": "de15f8ac-3f46-4dde-96cd-da0bffec4858",
   "metadata": {},
   "outputs": [],
   "source": []
  },
  {
   "cell_type": "code",
   "execution_count": null,
   "id": "4e60d7f6-95ba-4f12-b161-4b2e8e126803",
   "metadata": {},
   "outputs": [],
   "source": []
  },
  {
   "cell_type": "code",
   "execution_count": null,
   "id": "323b847f-2f25-4140-b21d-eb76a1cc6838",
   "metadata": {},
   "outputs": [],
   "source": []
  },
  {
   "cell_type": "code",
   "execution_count": null,
   "id": "7bfe9857-b7b3-42b2-be1e-8987a38e8d2a",
   "metadata": {},
   "outputs": [],
   "source": []
  },
  {
   "cell_type": "code",
   "execution_count": null,
   "id": "27c25d27-c13c-44d2-ae3a-d42a839af01c",
   "metadata": {},
   "outputs": [],
   "source": []
  },
  {
   "cell_type": "code",
   "execution_count": null,
   "id": "2ba029d8-0c35-41de-93dd-92da7c79ab9b",
   "metadata": {},
   "outputs": [],
   "source": []
  },
  {
   "cell_type": "code",
   "execution_count": null,
   "id": "dc0d96a9-e64d-48be-8736-e9b1f391e2b8",
   "metadata": {},
   "outputs": [],
   "source": []
  },
  {
   "cell_type": "code",
   "execution_count": null,
   "id": "4e8f8a21-0aef-4f6b-865f-323b8eabbbd5",
   "metadata": {},
   "outputs": [],
   "source": []
  },
  {
   "cell_type": "code",
   "execution_count": null,
   "id": "f7ce611a-ac6e-4352-af3b-a39eecfbda0f",
   "metadata": {},
   "outputs": [],
   "source": []
  }
 ],
 "metadata": {
  "kernelspec": {
   "display_name": "Python 3 (ipykernel)",
   "language": "python",
   "name": "python3"
  },
  "language_info": {
   "codemirror_mode": {
    "name": "ipython",
    "version": 3
   },
   "file_extension": ".py",
   "mimetype": "text/x-python",
   "name": "python",
   "nbconvert_exporter": "python",
   "pygments_lexer": "ipython3",
   "version": "3.11.7"
  }
 },
 "nbformat": 4,
 "nbformat_minor": 5
}
